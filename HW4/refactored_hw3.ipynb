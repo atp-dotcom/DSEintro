{
 "cells": [
  {
   "cell_type": "code",
   "execution_count": 1,
   "id": "bf1490d9",
   "metadata": {},
   "outputs": [
    {
     "name": "stdout",
     "output_type": "stream",
     "text": [
      "Successfully loaded dataset: ../HW3/data/co2-gdp-pop-growth.csv\n",
      "Data shape: 27645 rows × 6 columns\n"
     ]
    }
   ],
   "source": [
    "import os\n",
    "import pandas as pd\n",
    "\n",
    "# Define the relative or absolute path to the data file\n",
    "DATA_PATH = os.path.join(\"..\", \"HW3/data\", \"co2-gdp-pop-growth.csv\")\n",
    "\n",
    "def load_dataset(file_path: str = DATA_PATH) -> pd.DataFrame:\n",
    "    \"\"\"\n",
    "    Load a CSV dataset into a pandas DataFrame.\n",
    "\n",
    "    Parameters\n",
    "    ----------\n",
    "    file_path : str, optional\n",
    "        The path to the CSV file. Defaults to '../data/co2-gdp-pop-growth.csv'.\n",
    "\n",
    "    Returns\n",
    "    -------\n",
    "    pd.DataFrame\n",
    "        The loaded dataset.\n",
    "\n",
    "    Raises\n",
    "    ------\n",
    "    FileNotFoundError\n",
    "        If the specified CSV file does not exist.\n",
    "    pd.errors.EmptyDataError\n",
    "        If the CSV file is empty.\n",
    "    pd.errors.ParserError\n",
    "        If the CSV file is malformed.\n",
    "    \"\"\"\n",
    "    if not os.path.exists(file_path):\n",
    "        raise FileNotFoundError(\n",
    "            f\"Error: The file '{file_path}' was not found.\\n\"\n",
    "            \"Please verify the path or ensure the file is in the 'data' directory.\"\n",
    "        )\n",
    "\n",
    "    try:\n",
    "        df = pd.read_csv(file_path)\n",
    "        print(f\"Successfully loaded dataset: {file_path}\")\n",
    "        print(f\"Data shape: {df.shape[0]} rows × {df.shape[1]} columns\")\n",
    "        return df\n",
    "\n",
    "    except pd.errors.EmptyDataError:\n",
    "        print(f\"Warning: The file '{file_path}' is empty.\")\n",
    "        raise\n",
    "    except pd.errors.ParserError as e:\n",
    "        print(f\"Error parsing '{file_path}': {e}\")\n",
    "        raise\n",
    "    except Exception as e:\n",
    "        print(f\"Unexpected error while reading '{file_path}': {e}\")\n",
    "        raise\n",
    "\n",
    "# Test load_dataset() function created previously\n",
    "if __name__ == \"__main__\":\n",
    "    try:\n",
    "        df = load_dataset()\n",
    "    except Exception as e:\n",
    "        print(f\"Failed to load dataset: {e}\")\n"
   ]
  },
  {
   "cell_type": "code",
   "execution_count": 2,
   "id": "cdc2ea6c",
   "metadata": {},
   "outputs": [],
   "source": [
    "# For reference, this is what the code used to look like before refactoring. \n",
    "\n",
    "#  # Load the dataset from the 'data' folder\n",
    "\n",
    "# try:\n",
    "#     df = pd.read_csv('../HW3/data/co2-gdp-pop-growth.csv')\n",
    "# except FileNotFoundError:\n",
    "#     print(\"Error: 'data/co2-gdp-pop-growth.csv' not found. Please ensure the file is in the 'data' folder.\")"
   ]
  },
  {
   "cell_type": "code",
   "execution_count": 3,
   "id": "45fb6c41",
   "metadata": {},
   "outputs": [
    {
     "name": "stdout",
     "output_type": "stream",
     "text": [
      "\n",
      "Let's check the first 5 rows of the dataset:\n",
      "     Entity Code  Year  Population growth (annual %)  GDP growth (annual %)  Annual CO₂ emissions growth (%)\n",
      "Afghanistan  AFG  1961                      1.962239                    NaN                        18.583180\n",
      "Afghanistan  AFG  1962                      2.044523                    NaN                        40.300896\n",
      "Afghanistan  AFG  1963                      2.105208                    NaN                         2.634644\n",
      "Afghanistan  AFG  1964                      2.161195                    NaN                        18.651236\n",
      "Afghanistan  AFG  1965                      2.233709                    NaN                        20.078205\n"
     ]
    }
   ],
   "source": [
    "# Check dataset contents\n",
    "\n",
    "# Check to see if dataset is empty\n",
    "if df.empty:\n",
    "    print(\"The dataset is empty. No rows to display.\")\n",
    "\n",
    "# If dataset is not empty, print the first 5 rows\n",
    "else:\n",
    "    print(\"\\nLet's check the first 5 rows of the dataset:\")\n",
    "    print(df.head().to_string(index=False))"
   ]
  },
  {
   "cell_type": "code",
   "execution_count": 4,
   "id": "305ed929",
   "metadata": {},
   "outputs": [],
   "source": [
    "# For reference, this is what the code used to look like before refactoring. \n",
    "\n",
    "# # Check dataset\n",
    "# print(\"First 5 rows of the raw data:\")\n",
    "# df.head()"
   ]
  },
  {
   "cell_type": "code",
   "execution_count": 5,
   "id": "49321190",
   "metadata": {},
   "outputs": [
    {
     "name": "stdout",
     "output_type": "stream",
     "text": [
      "Initial Dataset Information:\n",
      "<class 'pandas.core.frame.DataFrame'>\n",
      "RangeIndex: 27645 entries, 0 to 27644\n",
      "Data columns (total 6 columns):\n",
      " #   Column                           Non-Null Count  Dtype  \n",
      "---  ------                           --------------  -----  \n",
      " 0   Entity                           27645 non-null  object \n",
      " 1   Code                             23674 non-null  object \n",
      " 2   Year                             27645 non-null  int64  \n",
      " 3   Population growth (annual %)     14458 non-null  float64\n",
      " 4   GDP growth (annual %)            11811 non-null  float64\n",
      " 5   Annual CO₂ emissions growth (%)  26002 non-null  float64\n",
      "dtypes: float64(3), int64(1), object(2)\n",
      "memory usage: 1.3+ MB\n"
     ]
    }
   ],
   "source": [
    "# We'll get an initial look at the data to understand its structure, data types, and any missing values\n",
    "\n",
    "print(\"Initial Dataset Information:\")\n",
    "df.info()"
   ]
  },
  {
   "cell_type": "code",
   "execution_count": 6,
   "id": "fd9942d5",
   "metadata": {},
   "outputs": [],
   "source": [
    "import io\n",
    "import pandas as pd\n",
    "\n",
    "def summarize_dataset(df: pd.DataFrame, name: str = \"Dataset\") -> None:\n",
    "    \"\"\"\n",
    "    Print a detailed summary of a pandas DataFrame including:\n",
    "    - Basic info (columns, dtypes) captured from df.info()\n",
    "    - Missing value summary\n",
    "    - Descriptive statistics for numeric columns\n",
    "    \"\"\"\n",
    "    print(f\"\\nInitial Information for {name}:\")\n",
    "    print(\"=\" * (25 + len(name)))\n",
    "\n",
    "    # Capture df.info() into a string buffer\n",
    "    buf = io.StringIO()\n",
    "    df.info(buf=buf)\n",
    "    info_str = buf.getvalue()\n",
    "    buf.close()\n",
    "    print(info_str)   # or log it somewhere\n",
    "\n",
    "    # Missing values summary\n",
    "    print(\"\\nMissing Values Summary:\")\n",
    "    missing = df.isnull().sum()\n",
    "    missing = missing[missing > 0].sort_values(ascending=False)\n",
    "    if missing.empty:\n",
    "        print(\"No missing values detected.\")\n",
    "    else:\n",
    "        print(missing.to_string())\n",
    "        print(f\"\\nTotal columns with missing data: {len(missing)}\")\n",
    "\n",
    "    # Descriptive statistics for numeric columns\n",
    "    print(\"\\nDescriptive Statistics (Numeric Columns):\")\n",
    "    print(df.describe().T.round(2).to_string())\n",
    "\n",
    "    # Shape and memory usage summary\n",
    "    print(f\"\\nDataset shape: {df.shape[0]} rows × {df.shape[1]} columns\")\n",
    "    mem = df.memory_usage(deep=True).sum() / 1024**2\n",
    "    print(f\"Memory usage: {mem:.2f} MB\")\n"
   ]
  }
 ],
 "metadata": {
  "kernelspec": {
   "display_name": "hw3",
   "language": "python",
   "name": "python3"
  },
  "language_info": {
   "codemirror_mode": {
    "name": "ipython",
    "version": 3
   },
   "file_extension": ".py",
   "mimetype": "text/x-python",
   "name": "python",
   "nbconvert_exporter": "python",
   "pygments_lexer": "ipython3",
   "version": "3.13.7"
  }
 },
 "nbformat": 4,
 "nbformat_minor": 5
}
